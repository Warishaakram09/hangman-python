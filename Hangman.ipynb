{
  "nbformat": 4,
  "nbformat_minor": 0,
  "metadata": {
    "colab": {
      "provenance": []
    },
    "kernelspec": {
      "name": "python3",
      "display_name": "Python 3"
    },
    "language_info": {
      "name": "python"
    }
  },
  "cells": [
    {
      "cell_type": "code",
      "execution_count": null,
      "metadata": {
        "colab": {
          "base_uri": "https://localhost:8080/"
        },
        "id": "7zFVrnqSNIUS",
        "outputId": "e8e87022-73e3-4319-f34c-60dc2ba7a500"
      },
      "outputs": [
        {
          "output_type": "stream",
          "name": "stdout",
          "text": [
            "\n",
            "Word: _ _ _ _ _\n",
            "Guess a letter: apple\n",
            "Correct!\n",
            "\n",
            "Word: _ _ _ _ _\n"
          ]
        }
      ],
      "source": [
        "word = \"apple\"\n",
        "guessed = ['_'] * len(word)\n",
        "chances = 6\n",
        "\n",
        "while True:\n",
        "    print(\"\\nWord: \" + \" \".join(guessed))\n",
        "    guess = input(\"Guess a letter: \")\n",
        "\n",
        "    if guess in word:\n",
        "        for i in range(len(word)):\n",
        "            if word[i] == guess:\n",
        "                guessed[i] = guess\n",
        "        print(\"Correct!\")\n",
        "    else:\n",
        "        chances -= 1\n",
        "        print(f\"Wrong! You have {chances} chances left.\")\n",
        "\n",
        "    if '_' not in guessed:\n",
        "        print(\"\\n🎉 You win! The word was:\", word)\n",
        "        break\n",
        "    if chances == 0:\n",
        "        print(\"\\n💀 You lose! The word was:\", word)\n",
        "        break\n"
      ]
    }
  ]
}